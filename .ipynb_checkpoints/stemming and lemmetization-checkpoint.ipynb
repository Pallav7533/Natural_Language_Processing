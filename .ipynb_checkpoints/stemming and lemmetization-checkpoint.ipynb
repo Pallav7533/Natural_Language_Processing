{
 "cells": [
  {
   "cell_type": "markdown",
   "id": "a8ffbaed",
   "metadata": {},
   "source": [
    "# NLP"
   ]
  },
  {
   "cell_type": "markdown",
   "id": "f729d073",
   "metadata": {},
   "source": [
    "# Stemming"
   ]
  },
  {
   "cell_type": "markdown",
   "id": "7fc71f29",
   "metadata": {},
   "source": [
    "Stemming is the process of reducing a word to its word stem that affixes to suffixes and prefixes or to the roots of words known as a lemma. Stemming is important in natural language understanding (NLU) and natural language processing (NLP).\n",
    "\n",
    "\"running\" -> \"run\"    \n",
    "\"happiness\" -> \"happi\"    \n",
    "\"caresses\" -> \"caress\""
   ]
  },
  {
   "cell_type": "markdown",
   "id": "0b527eb5",
   "metadata": {},
   "source": [
    "# Overstemming"
   ]
  },
  {
   "cell_type": "markdown",
   "id": "aea5a4cd",
   "metadata": {},
   "source": [
    "Definition: \n",
    "Overstemming occurs when a stemming algorithm removes more characters than necessary, leading to stems that are too general or incorrect.\n",
    "\n",
    "Example:\n",
    "\n",
    "\"university\" -> \"univers\" (correct stem: \"universi\")    \n",
    "\"generalization\" -> \"gener\" (correct stem: \"general\")"
   ]
  },
  {
   "cell_type": "markdown",
   "id": "6c095764",
   "metadata": {},
   "source": [
    "# Understemming"
   ]
  },
  {
   "cell_type": "markdown",
   "id": "814c30d6",
   "metadata": {},
   "source": [
    "Definition: Understemming occurs when a stemming algorithm does not remove enough characters, leading to stems that are too specific and fail to capture the common root of related words.\n",
    "\n",
    "Example:\n",
    "\"running\" -> \"running\" (correct stem: \"run\")    \n",
    "\"happiness\" -> \"happiness\" (correct stem: \"happi\")"
   ]
  },
  {
   "cell_type": "markdown",
   "id": "764a0b71",
   "metadata": {},
   "source": [
    "# Types   \n"
   ]
  },
  {
   "cell_type": "markdown",
   "id": "1c640625",
   "metadata": {},
   "source": [
    "# Porter Stemmer"
   ]
  },
  {
   "cell_type": "markdown",
   "id": "53967e5f",
   "metadata": {},
   "source": [
    "Definition: The Porter Stemmer is one of the most widely used stemming algorithms. It uses a series of predefined rules to iteratively strip suffixes from words.\n",
    "\n",
    "Example:\n",
    "\"running\" -> \"run\"      \n",
    "\"happiness\" -> \"happi\"    \n",
    "\"caresses\" -> \"caress\"       "
   ]
  },
  {
   "cell_type": "code",
   "execution_count": 3,
   "id": "0a81ce1c",
   "metadata": {},
   "outputs": [
    {
     "name": "stdout",
     "output_type": "stream",
     "text": [
      "eating => eat\n",
      "eats => eat\n",
      "eaten => eaten\n",
      "writing => write\n",
      "writes => write\n",
      "programming => program\n",
      "programs => program\n",
      "history => histori\n",
      "finally => final\n",
      "finalized => final\n"
     ]
    }
   ],
   "source": [
    "from nltk.stem import PorterStemmer\n",
    "\n",
    "stemming = PorterStemmer()\n",
    "\n",
    "words=[\"eating\",\"eats\",\"eaten\",\"writing\",\"writes\",\"programming\",\"programs\",\"history\",\"finally\",\"finalized\"]\n",
    "\n",
    "for word in words:\n",
    "    print(word+\" => \"+stemming.stem(word))"
   ]
  },
  {
   "cell_type": "code",
   "execution_count": 4,
   "id": "0fa5e548",
   "metadata": {},
   "outputs": [
    {
     "data": {
      "text/plain": [
       "'congratul'"
      ]
     },
     "execution_count": 4,
     "metadata": {},
     "output_type": "execute_result"
    }
   ],
   "source": [
    "stemming.stem('Congratulation')"
   ]
  },
  {
   "cell_type": "code",
   "execution_count": 5,
   "id": "0d60bb8e",
   "metadata": {},
   "outputs": [
    {
     "data": {
      "text/plain": [
       "'sit'"
      ]
     },
     "execution_count": 5,
     "metadata": {},
     "output_type": "execute_result"
    }
   ],
   "source": [
    "stemming.stem(\"sitting\")"
   ]
  },
  {
   "cell_type": "markdown",
   "id": "550547bb",
   "metadata": {},
   "source": [
    "# Lancaster Stemmer"
   ]
  },
  {
   "cell_type": "markdown",
   "id": "1874d4ed",
   "metadata": {},
   "source": [
    "Definition: The Lancaster Stemmer is another stemming algorithm that is more aggressive than the Porter Stemmer. It uses a more extensive set of rules, resulting in shorter stems.\n",
    "\n",
    "Example:\n",
    "\"running\" -> \"run\"             \n",
    "\"happiness\" -> \"happy\"      \n",
    "\"caresses\" -> \"caress\""
   ]
  },
  {
   "cell_type": "code",
   "execution_count": 6,
   "id": "16a17420",
   "metadata": {},
   "outputs": [
    {
     "name": "stdout",
     "output_type": "stream",
     "text": [
      "running => run\n",
      "happiness => happy\n",
      "caresses => caress\n"
     ]
    }
   ],
   "source": [
    "from nltk.stem import LancasterStemmer\n",
    "lancaster = LancasterStemmer()\n",
    "\n",
    "words = [\"running\", \"happiness\", \"caresses\"]\n",
    "for word in words:\n",
    "    print(word+\" => \"+lancaster.stem(word))"
   ]
  },
  {
   "cell_type": "code",
   "execution_count": 7,
   "id": "badc52dd",
   "metadata": {},
   "outputs": [
    {
     "data": {
      "text/plain": [
       "'congrat'"
      ]
     },
     "execution_count": 7,
     "metadata": {},
     "output_type": "execute_result"
    }
   ],
   "source": [
    "lancaster.stem('Congratulation')"
   ]
  },
  {
   "cell_type": "markdown",
   "id": "76734c04",
   "metadata": {},
   "source": [
    "# RegexpStemmer class"
   ]
  },
  {
   "cell_type": "markdown",
   "id": "17f999a0",
   "metadata": {},
   "source": [
    "NLTK has RegexpStemmer class with the help of which we can easily implement Regular Expression Stemmer algorithms. It basically takes a single regular expression and removes any prefix or suffix that matches the expression. Let us see an example"
   ]
  },
  {
   "cell_type": "code",
   "execution_count": 8,
   "id": "7e76a38e",
   "metadata": {},
   "outputs": [
    {
     "name": "stdout",
     "output_type": "stream",
     "text": [
      "eat\n",
      "ingeat\n"
     ]
    }
   ],
   "source": [
    "from nltk.stem import RegexpStemmer\n",
    "reg_stemmer=RegexpStemmer('ing$|s$|e$|able$', min=4)\n",
    "\n",
    "print(reg_stemmer.stem('eating'))\n",
    "print(reg_stemmer.stem('ingeating'))"
   ]
  },
  {
   "cell_type": "code",
   "execution_count": 9,
   "id": "08679daf",
   "metadata": {},
   "outputs": [
    {
     "name": "stdout",
     "output_type": "stream",
     "text": [
      "['runn', 'happi', 'caresse']\n"
     ]
    }
   ],
   "source": [
    "import re\n",
    "\n",
    "def regex_stem(word):\n",
    "    patterns = [\n",
    "        (r'ing$', ''), \n",
    "        (r'ness$', ''), \n",
    "        (r'es$', 'e'), \n",
    "        (r's$', '')     \n",
    "    ]\n",
    "    for pattern, repl in patterns:\n",
    "        word = re.sub(pattern, repl, word)\n",
    "    return word\n",
    "\n",
    "words = [\"running\", \"happiness\", \"caresses\"]\n",
    "stems = [regex_stem(word) for word in words]\n",
    "print(stems)"
   ]
  },
  {
   "cell_type": "markdown",
   "id": "da11bacb",
   "metadata": {},
   "source": [
    "# Snowball Stemmer"
   ]
  },
  {
   "cell_type": "markdown",
   "id": "a61f7ee5",
   "metadata": {},
   "source": [
    "it is a stemming algorithm which is also known as the Porter2 stemming algorithm as it is a better version of the Porter Stemmer since some issues of it were fixed in this stemmer."
   ]
  },
  {
   "cell_type": "code",
   "execution_count": 10,
   "id": "d8dd78ee",
   "metadata": {},
   "outputs": [
    {
     "name": "stdout",
     "output_type": "stream",
     "text": [
      "eating=>eat\n",
      "eats=>eat\n",
      "eaten=>eaten\n",
      "writing=>write\n",
      "writes=>write\n",
      "programming=>program\n",
      "programs=>program\n",
      "history=>histori\n",
      "finally=>final\n",
      "finalized=>final\n"
     ]
    }
   ],
   "source": [
    "from nltk.stem import SnowballStemmer\n",
    "snowballsstemmer=SnowballStemmer('english')\n",
    "\n",
    "words=[\"eating\",\"eats\",\"eaten\",\"writing\",\"writes\",\"programming\",\"programs\",\"history\",\"finally\",\"finalized\"]\n",
    "for word in words:\n",
    "    print(word+\"=>\"+snowballsstemmer.stem(word))"
   ]
  },
  {
   "cell_type": "markdown",
   "id": "ae6e6123",
   "metadata": {},
   "source": [
    "# Lemmatization"
   ]
  },
  {
   "cell_type": "markdown",
   "id": "713ebcb2",
   "metadata": {},
   "source": [
    "Lemmatization technique is like stemming.        \n",
    "The output we will get after lemmatization is called ‘lemma’, which is a root word rather than root stem, the output of stemming.                        \n",
    "After lemmatization, we will be getting a  valid word that means the same thing.                 \n",
    "Lemmatization is a process in natural language processing (NLP) that reduces words to their base or dictionary form, known as the lemma.                    \n",
    "Unlike stemming, which often removes suffixes in a crude way, lemmatization uses linguistic knowledge, including vocabulary and morphological analysis, to produce more accurate and meaningful base forms.               \n",
    "\n",
    "\n",
    "Example\n",
    "\n",
    "\n",
    "Consider the following words and how they are lemmatized:               \n",
    "Running:                         \n",
    "Lemmatized: \"run\" (verb)                            \n",
    "Explanation: The verb \"running\" is reduced to its base form \"run\".             \n",
    "Better:           \n",
    "Lemmatized: \"good\" (adjective)              \n",
    "Explanation: The adjective \"better\" is reduced to \"good\" based on its comparative form.               "
   ]
  },
  {
   "cell_type": "markdown",
   "id": "e745a4e5",
   "metadata": {},
   "source": [
    "# Wordnet Lemmatizer"
   ]
  },
  {
   "cell_type": "markdown",
   "id": "091fd231",
   "metadata": {},
   "source": [
    "NLTK provides WordNetLemmatizer class which is a thin wrapper around the wordnet corpus. This class uses morphy() function to the WordNet CorpusReader class to find a lemma. Let us understand it with an example −"
   ]
  },
  {
   "cell_type": "code",
   "execution_count": 11,
   "id": "a8466936",
   "metadata": {},
   "outputs": [
    {
     "data": {
      "text/plain": [
       "'going'"
      ]
     },
     "execution_count": 11,
     "metadata": {},
     "output_type": "execute_result"
    }
   ],
   "source": [
    "from nltk.stem import WordNetLemmatizer\n",
    "lemmatizer=WordNetLemmatizer()\n",
    "\n",
    "lemmatizer.lemmatize(\"going\")"
   ]
  },
  {
   "cell_type": "markdown",
   "id": "56039e14",
   "metadata": {},
   "source": [
    "# POS tag -"
   ]
  },
  {
   "cell_type": "markdown",
   "id": "33b31005",
   "metadata": {},
   "source": [
    "\n",
    "Noun-n         \n",
    "verb-v             \n",
    "adjective-a              \n",
    "adverb-r           "
   ]
  },
  {
   "cell_type": "code",
   "execution_count": 12,
   "id": "c50b7199",
   "metadata": {},
   "outputs": [
    {
     "data": {
      "text/plain": [
       "'go'"
      ]
     },
     "execution_count": 12,
     "metadata": {},
     "output_type": "execute_result"
    }
   ],
   "source": [
    "lemmatizer.lemmatize(\"going\",pos='v')"
   ]
  },
  {
   "cell_type": "code",
   "execution_count": 13,
   "id": "82c35903",
   "metadata": {},
   "outputs": [
    {
     "data": {
      "text/plain": [
       "'going'"
      ]
     },
     "execution_count": 13,
     "metadata": {},
     "output_type": "execute_result"
    }
   ],
   "source": [
    "lemmatizer.lemmatize(\"going\",pos='n')"
   ]
  },
  {
   "cell_type": "code",
   "execution_count": 14,
   "id": "bc792f84",
   "metadata": {},
   "outputs": [
    {
     "name": "stdout",
     "output_type": "stream",
     "text": [
      "eating=> eat\n",
      "eats=> eat\n",
      "eaten=> eat\n",
      "writing=> write\n",
      "writes=> write\n",
      "programming=> program\n",
      "programs=> program\n",
      "history=> history\n",
      "finally=> finally\n",
      "finalized=> finalize\n"
     ]
    }
   ],
   "source": [
    "words=[\"eating\",\"eats\",\"eaten\",\"writing\",\"writes\",\"programming\",\"programs\",\"history\",\"finally\",\"finalized\"]\n",
    "\n",
    "for word in words:\n",
    "    print(word+\"=> \"+lemmatizer.lemmatize(word,pos='v'))"
   ]
  },
  {
   "cell_type": "code",
   "execution_count": 15,
   "id": "96b307ef",
   "metadata": {},
   "outputs": [
    {
     "name": "stdout",
     "output_type": "stream",
     "text": [
      "['eating', 'eats', 'eaten', 'writing', 'writes', 'programming', 'program', 'history', 'finally', 'finalized'] "
     ]
    }
   ],
   "source": [
    "lemma = [lemmatizer.lemmatize(word) for word in words]\n",
    "print(lemma,end=\" \")"
   ]
  },
  {
   "cell_type": "code",
   "execution_count": 16,
   "id": "afddd485",
   "metadata": {},
   "outputs": [
    {
     "data": {
      "text/plain": [
       "('fairly', 'sportingly')"
      ]
     },
     "execution_count": 16,
     "metadata": {},
     "output_type": "execute_result"
    }
   ],
   "source": [
    "lemmatizer.lemmatize(\"fairly\",pos='v'),lemmatizer.lemmatize(\"sportingly\")"
   ]
  },
  {
   "cell_type": "code",
   "execution_count": null,
   "id": "daf6e45b",
   "metadata": {},
   "outputs": [],
   "source": []
  }
 ],
 "metadata": {
  "kernelspec": {
   "display_name": "Python 3 (ipykernel)",
   "language": "python",
   "name": "python3"
  },
  "language_info": {
   "codemirror_mode": {
    "name": "ipython",
    "version": 3
   },
   "file_extension": ".py",
   "mimetype": "text/x-python",
   "name": "python",
   "nbconvert_exporter": "python",
   "pygments_lexer": "ipython3",
   "version": "3.10.13"
  }
 },
 "nbformat": 4,
 "nbformat_minor": 5
}
